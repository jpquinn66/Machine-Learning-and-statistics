{
 "cells": [
  {
   "cell_type": "markdown",
   "id": "9083b3ab",
   "metadata": {},
   "source": [
    "# <u>Machine Learning and statistics project</u>"
   ]
  },
  {
   "cell_type": "markdown",
   "id": "12d14eaa",
   "metadata": {},
   "source": [
    "Machine learning is a branch of artificcial intelligence and computer science that gives computers an ability to learn without being explicitly programmed. It focuses on the use of algorithms to imitate the way humans learn, gradually improving in its accuracy. Two of the main types of machine learning are supervised and unsupervised learning. For the purpose of this project we are looking at supervised learning. "
   ]
  },
  {
   "cell_type": "markdown",
   "id": "82731670",
   "metadata": {},
   "source": [
    "### What is supervised learning?"
   ]
  },
  {
   "cell_type": "markdown",
   "id": "b9d0c6cd",
   "metadata": {},
   "source": [
    "Supervised learning is a type of algorithm that learns from labelled data, labeled data is data that has been tagged with a correct answer or classification. Supervised learning is when we train the machine using labelled data. After this we provide the machine with a new dataset so that the algorithm can analyze the training data and produce a correct outcome. "
   ]
  },
  {
   "cell_type": "markdown",
   "id": "d1a384c3",
   "metadata": {},
   "source": [
    "### Types of supervised learning"
   ]
  },
  {
   "cell_type": "markdown",
   "id": "f85668ef",
   "metadata": {},
   "source": [
    "There are two categories of supervised learning\n",
    "\n",
    "1.    Regression\n",
    "2.    Classification\n",
    "\n",
    "A regression problem is when the output variable is a real value.\n",
    "A classification problem is when the output variable is a category.\n",
    "\n",
    "We will be focusing on classification for this project"
   ]
  },
  {
   "cell_type": "markdown",
   "id": "fd3af87b",
   "metadata": {},
   "source": [
    "### Classification"
   ]
  },
  {
   "cell_type": "markdown",
   "id": "502681a8",
   "metadata": {},
   "source": [
    "Classification is a type of supervised learning that is used to predict categorical values. Classification algorithms learn a function that maps from the input features to a probability distribution over the output classes. Unlike regression, the output variable of Classification is a category, not a value, for example, \"male or female\", \"red or green\", etc.\n",
    "\n",
    "An example of a classification algorithm in everyday use would be an email spam detector.\n",
    "\n",
    "The algorithm which implements the classification on a dataset is known as a classifier. There are two types of Classifications.\n",
    "\n",
    "Binary Classifier. If there are only two possible outcomes, for example, yes or no, then it is a binary classifier.\n",
    "\n",
    "Multi-class Classifier. If there are more than two outcomes then it is a multi class classifier.\n",
    "\n",
    "\n",
    "There are 2 main categories of classification algorithm\n",
    "\n",
    "Linear models. Such as Logistic regression and Support vector machines.\n",
    "\n",
    "Non Linear models. Such as K nearest neighbours, Kernel SVM, Decision Tree classification and random forest classification.\n",
    "\n",
    "We will be taking a closer look at K-nearest neighbours\n"
   ]
  },
  {
   "cell_type": "markdown",
   "id": "6aa6c9fc",
   "metadata": {},
   "source": [
    "### Uses of classification"
   ]
  },
  {
   "cell_type": "markdown",
   "id": "50a0eaea",
   "metadata": {},
   "source": [
    "There are many real world uses for classification algorithms, below are a few examples\n",
    "\n",
    "Image Recognition. Classification is used in computer vision tasks to classify images into predefined classes, enabling applications like object detection, facial recognition, and autonomous driving.\n",
    "\n",
    "Disease Diagnosis. Classification algorithms analyze patient data, symptoms, and medical test results to classify diseases or predict the likelihood of certain conditions, assisting in medical diagnosis.\n",
    "\n",
    "Land Cover Classification. Classification algorithms are used to classify land cover types (e.g., forests, urban areas, water bodies) in satellite or aerial imagery, useful for environmental monitoring, urban planning, and natural resource management.\n",
    "\n",
    "Language Identification. Classification models can classify text data into different languages, aiding in language identification tasks, multilingual analysis, and machine translation."
   ]
  },
  {
   "cell_type": "markdown",
   "id": "8ddc80d5",
   "metadata": {},
   "source": [
    "### Advantages and disadvantages of classification algorithms"
   ]
  },
  {
   "cell_type": "markdown",
   "id": "0f11856d",
   "metadata": {},
   "source": [
    "Advantages of Classification Algorithms\n",
    "\n",
    "Interpretability. Some classification algorithms, such as Decision Trees, are highly interpretable. They provide a clear set of rules that can be easily understood by non-experts.\n",
    "\n",
    "Simplicity. Many classification algorithms are relatively simple to implement and understand, making them suitable for quick prototyping and initial analyses.\n",
    "\n",
    "Efficiency. Some algorithms, like Naive Bayes, can be computationally efficient and work well on large datasets.\n",
    "No Assumption of Linearity:\n",
    "\n",
    "Algorithms like KNN are non-parametric, meaning they make fewer assumptions about the underlying data distribution. This flexibility can be beneficial in various scenarios.\n",
    "\n",
    "Disadvantages of Classification Algorithms.\n",
    "\n",
    "Sensitive to Outliers. Outliers or noisy data points can significantly impact the performance of certain algorithms, especially those based on distances, like KNN.\n",
    "\n",
    "Computational Complexity. Some algorithms, such as SVM with a non-linear kernel, can be computationally expensive, particularly on large datasets.\n",
    "\n",
    "Need for Sufficient Data. Many classification algorithms perform well when provided with sufficient data. Insufficient data can lead to poor generalization."
   ]
  },
  {
   "cell_type": "markdown",
   "id": "9b9e2fb5",
   "metadata": {},
   "source": [
    "### Accuracy in classification algorithms"
   ]
  },
  {
   "cell_type": "markdown",
   "id": "e7118608",
   "metadata": {},
   "source": [
    "In classification algorithms, accuracy is a common metric used to evaluate the performance of a model. Accuracy represents the proportion of correctly predicted instances out of the total number of instances in the dataset. It is calculated by dividing the number of correctly classified instances (true positives and true negatives) by the total number of instances."
   ]
  },
  {
   "cell_type": "markdown",
   "id": "7aaf0b7d",
   "metadata": {},
   "source": [
    "### K-Nearest Neighbours\n"
   ]
  },
  {
   "cell_type": "markdown",
   "id": "0f500063",
   "metadata": {},
   "source": [
    "The k-nearest neighbors algorithm, also known as KNN or k-NN, is a non-parametric, supervised learning classifier, which uses proximity to make classifications or predictions about the grouping of an individual data point. It is typically used as a classification algorithm.\n",
    "\n",
    "a versatile and widely used machine learning algorithm, K-NN is used for its simplicity and ease of implementation. It does not require any assumptions about the underlying data distribution. It can also handle both numerical and categorical data, so it is a good choice for various different dataset types. It is a non-parametric method that makes predictions based on the similarity of data points in a given dataset and is less sensitive to outliers compared to other algorithms.\n",
    "\n",
    "Each data point in the dataset is represented as a vector in a multidimensional space, where each feature corresponds to a dimension.\n",
    "\n",
    "To determine the closeness between two data points, the algorithm calculates the distance between them. The most common distance metric is Euclidean distance, but other metrics like Manhattan distance or Minkowski distance can also be used.\n",
    "\n",
    "The parameter k represents the number of nearest neighbors to consider when making predictions. A small k value may lead to noisy predictions, while a large k value may smooth out local patterns.\n",
    "\n",
    "The algorithm counts the number of neighbors in each class and assigns the class with the majority of votes to the query point. In regression tasks, the algorithm averages the target values of the k nearest neighbors.\n",
    "\n",
    "\n",
    "\n",
    "\n"
   ]
  },
  {
   "cell_type": "markdown",
   "id": "936baf03",
   "metadata": {},
   "source": [
    "### Distance Metrics Used in KNN Algorithm"
   ]
  },
  {
   "cell_type": "markdown",
   "id": "c8c0e715",
   "metadata": {},
   "source": [
    "Euclidean distance is the \"straight-line\" or \"as-the-crow-flies\" distance between two points in Euclidean space. It represents the length of the shortest path between two points in a straight line. In two-dimensional space, it corresponds to the Pythagorean theorem.\n",
    "\n",
    "Manhattan distance, also known as L1 distance or taxicab distance, measures the distance between two points by the sum of the absolute differences of their Cartesian coordinates. It represents the distance a taxi would travel on a grid-like road system to reach from one point to another.\n",
    "\n",
    "Minkowski distance is a generalization of both Euclidean and Manhattan distances. The parameter p allows tuning the distance metric. When p = 2,it is equivalent to Euclidean distance, and when p=1, it is equivalent to Manhattan distance. It encompasses both as special cases and offers flexibility in adjusting the distance metric based on the problem requirements.\n",
    "\n",
    "Euclidean is suitable for continuous data and when the relationships between features are more important.\n",
    "Manhattan is useful when movement is restricted to grid-like paths or when differences in only one dimension matter.\n",
    "\n",
    "Choosing the appropriate distance metric depends on the characteristics of the data and the specific requirements of the problem at hand"
   ]
  },
  {
   "cell_type": "markdown",
   "id": "c73810ac",
   "metadata": {},
   "source": [
    "### Advantages and disadvantages of K-NN"
   ]
  },
  {
   "cell_type": "markdown",
   "id": "b35e060a",
   "metadata": {},
   "source": [
    "Advantages.\n",
    "Easy to implement. Complexity of algorithm is not high\n",
    "Adapts easily. Stores all data in memory storage, when a new data point is added it adjusts itself as per that new example and has its contribution to the future predictions as well.\n",
    "Few Hyperparameters. It only requires the value of k and the choice of distance metric which we would like to choose from our evaluation metric.\n",
    "\n",
    "Disadvantages.\n",
    "Does not scale. It is considered a Lazy Algorithm. The main significance of this term is that this takes lots of computing power as well as data storage. This makes this algorithm both time-consuming and resource exhausting.\n",
    "Dimensionality. Implies the algorithm faces a hard time classifying the data points properly when the dimensionality is too high.\n",
    "Overfitting. As the algorithm is affected by dimensionality it is prone to the problem of overfitting as well. Generally feature selection as well as dimensionality reduction techniques are applied to deal with this problem.\n"
   ]
  },
  {
   "cell_type": "markdown",
   "id": "581c6e42",
   "metadata": {},
   "source": [
    "### Applying K-NN to the iris data set"
   ]
  },
  {
   "cell_type": "code",
   "execution_count": 1,
   "id": "ad5b4da5",
   "metadata": {},
   "outputs": [
    {
     "data": {
      "image/png": "[encoded data removed]",
      "text/plain": [
       "<Figure size 720x432 with 1 Axes>"
      ]
     },
     "metadata": {
      "needs_background": "light"
     },
     "output_type": "display_data"
    },
    {
     "data": {
      "image/png": "[encoded data removed]",
      "text/plain": [
       "<Figure size 720x432 with 1 Axes>"
      ]
     },
     "metadata": {
      "needs_background": "light"
     },
     "output_type": "display_data"
    }
   ],
   "source": [
    "# Import necessary libraries\n",
    "import numpy as np\n",
    "import matplotlib.pyplot as plt\n",
    "from sklearn.datasets import load_iris\n",
    "from sklearn.model_selection import train_test_split\n",
    "from sklearn.neighbors import KNeighborsClassifier\n",
    "from sklearn.metrics import accuracy_score, confusion_matrix\n",
    "from matplotlib.colors import ListedColormap\n",
    "\n",
    "# Load the Iris dataset\n",
    "iris = load_iris()\n",
    "X, y = iris.data, iris.target\n",
    "\n",
    "# Scatter plot to show the distribution of different classes\n",
    "plt.figure(figsize=(10, 6))\n",
    "\n",
    "# Plot points for each class with a different color\n",
    "for i, c in zip(range(3), ['red', 'green', 'blue']):\n",
    "    plt.scatter(X[y == i, 0], X[y == i, 1], c=c, label=iris.target_names[i], edgecolor='k')\n",
    "\n",
    "plt.title(\"Scatter Plot of Iris Dataset\")\n",
    "plt.xlabel(iris.feature_names[0])\n",
    "plt.ylabel(iris.feature_names[1])\n",
    "plt.legend()\n",
    "plt.show()\n",
    "\n",
    "# Split the data into training and testing sets\n",
    "X_train, X_test, y_train, y_test = train_test_split(X, y, test_size=0.2, random_state=42)\n",
    "\n",
    "# Choose the number of neighbors (k)\n",
    "k_neighbors = 3\n",
    "\n",
    "# Create and train the KNN classifier\n",
    "knn_classifier = KNeighborsClassifier(n_neighbors=k_neighbors)\n",
    "knn_classifier.fit(X_train[:, :2], y_train)\n",
    "\n",
    "# Plot_decision_boundary function\n",
    "def plot_decision_boundary(X, y, classifier, title):\n",
    "    h = .02  # step size in the mesh\n",
    "\n",
    "    # Create a mesh grid\n",
    "    x_min, x_max = X[:, 0].min() - 1, X[:, 0].max() + 1\n",
    "    y_min, y_max = X[:, 1].min() - 1, X[:, 1].max() + 1\n",
    "    xx, yy = np.meshgrid(np.arange(x_min, x_max, h), np.arange(y_min, y_max, h))\n",
    "\n",
    "    # Predict the class for each point in the mesh grid\n",
    "    Z = classifier.predict(np.c_[xx.ravel(), yy.ravel()])\n",
    "\n",
    "    # Reshape the predictions to match the shape of the mesh grid\n",
    "    Z = Z.reshape(xx.shape)\n",
    "\n",
    "    # Plot the decision boundary and scatter plot\n",
    "    plt.figure(figsize=(10, 6))\n",
    "    plt.contourf(xx, yy, Z, cmap=ListedColormap(['lightcoral', 'lightgreen', 'lightblue']), alpha=0.3)\n",
    "    \n",
    "    # Scatter plot of actual data points\n",
    "    for i, c in zip(range(3), ['red', 'green', 'blue']):\n",
    "        plt.scatter(X[y == i, 0], X[y == i, 1], c=c, label=iris.target_names[i], edgecolor='k')\n",
    "\n",
    "    plt.title(title)\n",
    "    plt.xlabel(iris.feature_names[0])\n",
    "    plt.ylabel(iris.feature_names[1])\n",
    "    plt.legend()\n",
    "    plt.show()\n",
    "\n",
    "# Plot decision boundaries on the training data\n",
    "plot_decision_boundary(X_train[:, :2], y_train, knn_classifier, \"KNN Decision Boundaries on Training Data\")"
   ]
  },
  {
   "cell_type": "markdown",
   "id": "ea1aa1be",
   "metadata": {},
   "source": [
    "Looking at the KNN decisions boundaries on the training data we can see that in the case of the Setosa class the K-nn algorithm was able to correctly predict the class in all cases, however in the case of versicolor and virginica there were some errors, using the code below we see that there was an accuracy of 86.67%. We used the euclidian distance metric, this is the default metric used in the scikit learn KneighborsClassifier"
   ]
  },
  {
   "cell_type": "code",
   "execution_count": 3,
   "id": "637f7783",
   "metadata": {},
   "outputs": [
    {
     "name": "stdout",
     "output_type": "stream",
     "text": [
      "Training Accuracy: 86.67%\n"
     ]
    }
   ],
   "source": [
    "# Calculate and print training accuracy\n",
    "y_train_pred = knn_classifier.predict(X_train[:, :2])\n",
    "training_accuracy = accuracy_score(y_train, y_train_pred) * 100\n",
    "print(f'Training Accuracy: {training_accuracy:.2f}%')"
   ]
  }
 ],
 "metadata": {
  "kernelspec": {
   "display_name": "Python 3 (ipykernel)",
   "language": "python",
   "name": "python3"
  },
  "language_info": {
   "codemirror_mode": {
    "name": "ipython",
    "version": 3
   },
   "file_extension": ".py",
   "mimetype": "text/x-python",
   "name": "python",
   "nbconvert_exporter": "python",
   "pygments_lexer": "ipython3",
   "version": "3.9.7"
  }
 },
 "nbformat": 4,
 "nbformat_minor": 5
}
